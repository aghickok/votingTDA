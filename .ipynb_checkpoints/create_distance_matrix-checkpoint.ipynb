{
 "cells": [
  {
   "cell_type": "code",
   "execution_count": 2,
   "id": "9c3b2644",
   "metadata": {},
   "outputs": [],
   "source": [
    "import pandas as pd\n",
    "import geopandas as gpd\n",
    "import numpy as np\n",
    "import networkx as nx"
   ]
  },
  {
   "cell_type": "markdown",
   "id": "a0b953c4",
   "metadata": {},
   "source": [
    "Load city shapefile dataframes"
   ]
  },
  {
   "cell_type": "code",
   "execution_count": 9,
   "id": "50aa5e7f",
   "metadata": {},
   "outputs": [],
   "source": [
    "df_nyc = gpd.read_file('data/nyc zip codes with data.zip')\n",
    "df_atl = gpd.read_file('data/atl zip codes with data.zip')"
   ]
  },
  {
   "cell_type": "markdown",
   "id": "f93a0ab0",
   "metadata": {},
   "source": [
    "Create shapefiles with polling place locations for NYC and Georgia"
   ]
  },
  {
   "cell_type": "code",
   "execution_count": 56,
   "id": "d9e15cdd",
   "metadata": {},
   "outputs": [],
   "source": [
    "df_poll = pd.read_csv('data/polling_pk_master_post.csv')\n",
    "\n",
    "def create_pollplace_shapefile(city_df, city_name, state_abbv):\n",
    "    '''\n",
    "    Input: \n",
    "    city_df is the geopandas dataframe with the zip code geometries (e.g. df_nyc), \n",
    "    city_name is string (e.g. 'nyc'), \n",
    "    state_abbv is abbreviation of the state in polling_pk_master_post.csv (e.g. 'NY')\n",
    "    \n",
    "    Creates geopandas dataframe of polls that are contained in the city\n",
    "    '''\n",
    "    polls = df_poll[df_poll['address.state'] == state_abbv]\n",
    "    polls = gpd.GeoDataFrame(polls, geometry=gpd.points_from_xy(polls.longitude, polls.latitude))\n",
    "    polls = polls.iloc[[city_df.contains(poll['geometry']).any() for i, poll in polls.iterrows()]]\n",
    "    polls.to_file(city_name + ' polling locations.geojson', driver='GeoJSON')"
   ]
  },
  {
   "cell_type": "code",
   "execution_count": 58,
   "id": "d74f07bb",
   "metadata": {},
   "outputs": [],
   "source": [
    "create_pollplace_shapefile(df_nyc, 'nyc', 'NY')"
   ]
  },
  {
   "cell_type": "code",
   "execution_count": 57,
   "id": "b5dc4c39",
   "metadata": {},
   "outputs": [],
   "source": [
    "create_pollplace_shapefile(df_atl, 'atl', 'GA')"
   ]
  },
  {
   "cell_type": "markdown",
   "id": "e57c60be",
   "metadata": {},
   "source": [
    "Calculate shortest paths (by time)"
   ]
  },
  {
   "cell_type": "code",
   "execution_count": 11,
   "id": "13cf15e6",
   "metadata": {},
   "outputs": [],
   "source": [
    "def calc_shortest_time(G, a, b):\n",
    "    '''\n",
    "    Input: \n",
    "    G is digraph representing road network, with edge travel times already added as an attribute.\n",
    "    a, b are Points (given by lat, long) (see https://shapely.readthedocs.io/en/stable/manual.html#points)\n",
    "    \n",
    "    Returns: An estimate of the travel time between a and b.\n",
    "    '''\n",
    "    a_node = ox.distance.nearest_nodes(G, a.x, a.y)\n",
    "    b_node = ox.distance.nearest_nodes(G, b.x, b.y)\n",
    "    t = nx.shortest_path_length(G, a_node, b_node, weight = 'travel_time')\n",
    "    return t\n",
    "\n",
    "def calc_time_by_car_matrix(G, polls):\n",
    "    '''\n",
    "    Input: \n",
    "    G is nx.Digraph representing road network, with edge travel times already added as an attribute.\n",
    "    polls is geopandas dataframe that stores polling locations as Points with (lat, long) coordinates.\n",
    "    \n",
    "    Returns: Numpy array t_car s.t. t_car(i, j) = estimate of travel time by car from ith poll to jth poll. t_car is asymmetric\n",
    "    '''\n",
    "    N = polls.shape[0]\n",
    "    t_car = np.empty((N, N))\n",
    "    for i, a in polls.iterrows():\n",
    "        for j, b in polls.iterrows():\n",
    "            if i != j:\n",
    "                t_car[i, j] = calc_shortest_time(G, a['geometry'], b['geometry'])\n",
    "    return t_car"
   ]
  },
  {
   "cell_type": "code",
   "execution_count": 9,
   "id": "1eeb60cd",
   "metadata": {},
   "outputs": [],
   "source": [
    "G_atl = nx.read_graphml('data/atl road network.graphml')"
   ]
  },
  {
   "cell_type": "code",
   "execution_count": 3,
   "id": "7859c449",
   "metadata": {},
   "outputs": [],
   "source": [
    "polls_atl = gpd.read_file('data/atl polling locations.geojson')"
   ]
  },
  {
   "cell_type": "code",
   "execution_count": 10,
   "id": "0056e388",
   "metadata": {},
   "outputs": [
    {
     "ename": "NameError",
     "evalue": "name 'ox' is not defined",
     "output_type": "error",
     "traceback": [
      "\u001b[1;31m---------------------------------------------------------------------------\u001b[0m",
      "\u001b[1;31mNameError\u001b[0m                                 Traceback (most recent call last)",
      "\u001b[1;32m<timed exec>\u001b[0m in \u001b[0;36m<module>\u001b[1;34m\u001b[0m\n",
      "\u001b[1;32m<ipython-input-7-903fcba67156>\u001b[0m in \u001b[0;36mcalc_shortest_time\u001b[1;34m(G, a, b)\u001b[0m\n\u001b[0;32m      7\u001b[0m     \u001b[0mReturns\u001b[0m\u001b[1;33m:\u001b[0m \u001b[0mAn\u001b[0m \u001b[0mestimate\u001b[0m \u001b[0mof\u001b[0m \u001b[0mthe\u001b[0m \u001b[0mtravel\u001b[0m \u001b[0mtime\u001b[0m \u001b[0mbetween\u001b[0m \u001b[0ma\u001b[0m \u001b[1;32mand\u001b[0m \u001b[0mb\u001b[0m\u001b[1;33m.\u001b[0m\u001b[1;33m\u001b[0m\u001b[1;33m\u001b[0m\u001b[0m\n\u001b[0;32m      8\u001b[0m     '''\n\u001b[1;32m----> 9\u001b[1;33m     \u001b[0ma_node\u001b[0m \u001b[1;33m=\u001b[0m \u001b[0mox\u001b[0m\u001b[1;33m.\u001b[0m\u001b[0mdistance\u001b[0m\u001b[1;33m.\u001b[0m\u001b[0mnearest_nodes\u001b[0m\u001b[1;33m(\u001b[0m\u001b[0mG\u001b[0m\u001b[1;33m,\u001b[0m \u001b[0ma\u001b[0m\u001b[1;33m.\u001b[0m\u001b[0mx\u001b[0m\u001b[1;33m,\u001b[0m \u001b[0ma\u001b[0m\u001b[1;33m.\u001b[0m\u001b[0my\u001b[0m\u001b[1;33m)\u001b[0m\u001b[1;33m\u001b[0m\u001b[1;33m\u001b[0m\u001b[0m\n\u001b[0m\u001b[0;32m     10\u001b[0m     \u001b[0mb_node\u001b[0m \u001b[1;33m=\u001b[0m \u001b[0mox\u001b[0m\u001b[1;33m.\u001b[0m\u001b[0mdistance\u001b[0m\u001b[1;33m.\u001b[0m\u001b[0mnearest_nodes\u001b[0m\u001b[1;33m(\u001b[0m\u001b[0mG\u001b[0m\u001b[1;33m,\u001b[0m \u001b[0mb\u001b[0m\u001b[1;33m.\u001b[0m\u001b[0mx\u001b[0m\u001b[1;33m,\u001b[0m \u001b[0mb\u001b[0m\u001b[1;33m.\u001b[0m\u001b[0my\u001b[0m\u001b[1;33m)\u001b[0m\u001b[1;33m\u001b[0m\u001b[1;33m\u001b[0m\u001b[0m\n\u001b[0;32m     11\u001b[0m     \u001b[0mt\u001b[0m \u001b[1;33m=\u001b[0m \u001b[0mnx\u001b[0m\u001b[1;33m.\u001b[0m\u001b[0mshortest_path_length\u001b[0m\u001b[1;33m(\u001b[0m\u001b[0mG\u001b[0m\u001b[1;33m,\u001b[0m \u001b[0ma_node\u001b[0m\u001b[1;33m,\u001b[0m \u001b[0mb_node\u001b[0m\u001b[1;33m,\u001b[0m \u001b[0mweight\u001b[0m\u001b[1;33m=\u001b[0m\u001b[1;34m'travel_time'\u001b[0m\u001b[1;33m)\u001b[0m\u001b[1;33m\u001b[0m\u001b[1;33m\u001b[0m\u001b[0m\n",
      "\u001b[1;31mNameError\u001b[0m: name 'ox' is not defined"
     ]
    }
   ],
   "source": [
    "%%time\n",
    "a = polls_atl['geometry'][0]\n",
    "b = polls_atl['geometry'][1]\n",
    "t = calc_shortest_time(G_atl, a, b)"
   ]
  },
  {
   "cell_type": "code",
   "execution_count": null,
   "id": "a123b79c",
   "metadata": {},
   "outputs": [],
   "source": []
  }
 ],
 "metadata": {
  "kernelspec": {
   "display_name": "Python 3",
   "language": "python",
   "name": "python3"
  },
  "language_info": {
   "codemirror_mode": {
    "name": "ipython",
    "version": 3
   },
   "file_extension": ".py",
   "mimetype": "text/x-python",
   "name": "python",
   "nbconvert_exporter": "python",
   "pygments_lexer": "ipython3",
   "version": "3.9.2"
  }
 },
 "nbformat": 4,
 "nbformat_minor": 5
}
