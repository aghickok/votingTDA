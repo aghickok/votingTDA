{
 "cells": [
  {
   "cell_type": "code",
   "execution_count": 17,
   "id": "aaba053e",
   "metadata": {},
   "outputs": [],
   "source": [
    "import pandas as pd\n",
    "import geopandas as gpd\n",
    "import numpy as np"
   ]
  },
  {
   "cell_type": "markdown",
   "id": "26f14f58",
   "metadata": {},
   "source": [
    "Load city shapefile dataframes"
   ]
  },
  {
   "cell_type": "code",
   "execution_count": 9,
   "id": "7db5c64f",
   "metadata": {},
   "outputs": [],
   "source": [
    "df_nyc = gpd.read_file('data/nyc zip codes with data.zip')\n",
    "df_atl = gpd.read_file('data/atl zip codes with data.zip')"
   ]
  },
  {
   "cell_type": "markdown",
   "id": "37c6d5d1",
   "metadata": {},
   "source": [
    "Create shapefiles with polling place locations for NYC and Georgia"
   ]
  },
  {
   "cell_type": "code",
   "execution_count": 56,
   "id": "67d51953",
   "metadata": {},
   "outputs": [],
   "source": [
    "df_poll = pd.read_csv('data/polling_pk_master_post.csv')\n",
    "\n",
    "def create_pollplace_shapefile(city_df, city_name, state_abbv):\n",
    "    '''\n",
    "    Input: \n",
    "    city_df is the geopandas dataframe with the zip code geometries (e.g. df_nyc), \n",
    "    city_name is string (e.g. 'nyc'), \n",
    "    state_abbv is abbreviation of the state in polling_pk_master_post.csv (e.g. 'NY')\n",
    "    \n",
    "    Creates geopandas dataframe of polls that are contained in the city\n",
    "    '''\n",
    "    polls = df_poll[df_poll['address.state'] == state_abbv]\n",
    "    polls = gpd.GeoDataFrame(polls, geometry=gpd.points_from_xy(polls.longitude, polls.latitude))\n",
    "    polls = polls.iloc[[city_df.contains(poll['geometry']).any() for i, poll in polls.iterrows()]]\n",
    "    polls.to_file(city_name + ' polling locations.geojson', driver='GeoJSON')"
   ]
  },
  {
   "cell_type": "code",
   "execution_count": 58,
   "id": "db8c762d",
   "metadata": {},
   "outputs": [],
   "source": [
    "create_pollplace_shapefile(df_nyc, 'nyc', 'NY')"
   ]
  },
  {
   "cell_type": "code",
   "execution_count": 57,
   "id": "1c9e27b8",
   "metadata": {},
   "outputs": [],
   "source": [
    "create_pollplace_shapefile(df_atl, 'atl', 'GA')"
   ]
  }
 ],
 "metadata": {
  "kernelspec": {
   "display_name": "Python 3",
   "language": "python",
   "name": "python3"
  },
  "language_info": {
   "codemirror_mode": {
    "name": "ipython",
    "version": 3
   },
   "file_extension": ".py",
   "mimetype": "text/x-python",
   "name": "python",
   "nbconvert_exporter": "python",
   "pygments_lexer": "ipython3",
   "version": "3.9.2"
  }
 },
 "nbformat": 4,
 "nbformat_minor": 5
}
