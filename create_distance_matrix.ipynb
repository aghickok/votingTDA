{
 "cells": [
  {
   "cell_type": "code",
   "execution_count": 2,
   "id": "9c3b2644",
   "metadata": {},
   "outputs": [],
   "source": [
    "import pandas as pd\n",
    "import geopandas as gpd\n",
    "import numpy as np\n",
    "import networkx as nx"
   ]
  },
  {
   "cell_type": "markdown",
   "id": "a0b953c4",
   "metadata": {},
   "source": [
    "Load city shapefile dataframes"
   ]
  },
  {
   "cell_type": "code",
   "execution_count": 9,
   "id": "50aa5e7f",
   "metadata": {},
   "outputs": [],
   "source": [
    "df_nyc = gpd.read_file('data/nyc zip codes with data.zip')\n",
    "df_atl = gpd.read_file('data/atl zip codes with data.zip')"
   ]
  },
  {
   "cell_type": "markdown",
   "id": "f93a0ab0",
   "metadata": {},
   "source": [
    "Create shapefiles with polling place locations for NYC and Georgia"
   ]
  },
  {
   "cell_type": "code",
   "execution_count": 56,
   "id": "d9e15cdd",
   "metadata": {},
   "outputs": [],
   "source": [
    "df_poll = pd.read_csv('data/polling_pk_master_post.csv')\n",
    "\n",
    "def create_pollplace_shapefile(city_df, city_name, state_abbv):\n",
    "    '''\n",
    "    Input: \n",
    "    city_df is the geopandas dataframe with the zip code geometries (e.g. df_nyc), \n",
    "    city_name is string (e.g. 'nyc'), \n",
    "    state_abbv is abbreviation of the state in polling_pk_master_post.csv (e.g. 'NY')\n",
    "    \n",
    "    Creates geopandas dataframe of polls that are contained in the city\n",
    "    '''\n",
    "    polls = df_poll[df_poll['address.state'] == state_abbv]\n",
    "    polls = gpd.GeoDataFrame(polls, geometry=gpd.points_from_xy(polls.longitude, polls.latitude))\n",
    "    polls = polls.iloc[[city_df.contains(poll['geometry']).any() for i, poll in polls.iterrows()]]\n",
    "    polls.to_file(city_name + ' polling locations.geojson', driver='GeoJSON')"
   ]
  },
  {
   "cell_type": "code",
   "execution_count": 58,
   "id": "d74f07bb",
   "metadata": {},
   "outputs": [],
   "source": [
    "create_pollplace_shapefile(df_nyc, 'nyc', 'NY')"
   ]
  },
  {
   "cell_type": "code",
   "execution_count": 57,
   "id": "b5dc4c39",
   "metadata": {},
   "outputs": [],
   "source": [
    "create_pollplace_shapefile(df_atl, 'atl', 'GA')"
   ]
  },
  {
   "cell_type": "markdown",
   "id": "e57c60be",
   "metadata": {},
   "source": [
    "Calculate shortest paths (by time)"
   ]
  },
  {
   "cell_type": "code",
   "execution_count": 15,
   "id": "13cf15e6",
   "metadata": {},
   "outputs": [],
   "source": [
    "# THESE ARE UNTESTED BECAUSE I HAVEN'T GOTTEN OSMNX WORKING YET\n",
    "\n",
    "def calc_shortest_time(G, a, b):\n",
    "    '''\n",
    "    Input: \n",
    "    G is digraph representing road network, with edge travel times already added as an attribute.\n",
    "    a, b are Points whose coordinates given by lat, long (see https://shapely.readthedocs.io/en/stable/manual.html#points)\n",
    "    \n",
    "    Returns: An estimate of the travel time between a and b.\n",
    "    '''\n",
    "    a_node = ox.distance.nearest_nodes(G, a.x, a.y)\n",
    "    b_node = ox.distance.nearest_nodes(G, b.x, b.y)\n",
    "    t = nx.shortest_path_length(G, a_node, b_node, weight = 'travel_time')\n",
    "    return t\n",
    "\n",
    "def calc_time_by_car_matrix(G, polls, fname = None):\n",
    "    '''\n",
    "    Input: \n",
    "    G is nx.Digraph representing road network, with edge travel times already added as an attribute.\n",
    "    polls is geopandas dataframe that stores polling locations as Points with (lat, long) coordinates.\n",
    "    fname (optional) is string for file name to save to.\n",
    "    \n",
    "    Returns: Numpy array t_car s.t. t_car(i, j) = estimate of travel time by car from ith poll to jth poll. t_car is asymmetric\n",
    "    If fname is given, saves t_car as .npy file\n",
    "    '''\n",
    "    N = polls.shape[0]\n",
    "    t_car = np.zeros((N, N))\n",
    "    for i, a in polls.iterrows():\n",
    "        for j, b in polls.iterrows():\n",
    "            if i != j:\n",
    "                t_car[i, j] = calc_shortest_time(G, a['geometry'], b['geometry'])\n",
    "    if fname is not None:\n",
    "        np.save(t_car, \"Distance_Marix_Files/\" + fname)\n",
    "    return t_car"
   ]
  }
 ],
 "metadata": {
  "kernelspec": {
   "display_name": "Python 3",
   "language": "python",
   "name": "python3"
  },
  "language_info": {
   "codemirror_mode": {
    "name": "ipython",
    "version": 3
   },
   "file_extension": ".py",
   "mimetype": "text/x-python",
   "name": "python",
   "nbconvert_exporter": "python",
   "pygments_lexer": "ipython3",
   "version": "3.9.2"
  }
 },
 "nbformat": 4,
 "nbformat_minor": 5
}
